{
 "cells": [
  {
   "cell_type": "code",
   "execution_count": 61,
   "metadata": {},
   "outputs": [],
   "source": [
    "import pandas as pd"
   ]
  },
  {
   "cell_type": "code",
   "execution_count": 67,
   "metadata": {},
   "outputs": [
    {
     "name": "stdout",
     "output_type": "stream",
     "text": [
      "                        location      lat      lon  UNWPP(people/km²)  \\\n",
      "0                Tumu, Wa, Ghana  10.8493  -2.1151                 17   \n",
      "1          Aboabo, Aboabo, Ghana   6.6935  -1.6194                181   \n",
      "2    Saltpond, Cape Coast, Ghana   5.2074  -1.0638                410   \n",
      "3            Orlu, Orlu, Nigeria   5.7877   7.0319               1605   \n",
      "4            Diffa, Diffa, Niger  13.3153  12.6113                 31   \n",
      "..                           ...      ...      ...                ...   \n",
      "129      nan, Orsumoghu, Nigeria   5.9967   6.9011               1752   \n",
      "130         nan, Nsukka, Nigeria   6.8564   7.3884               1855   \n",
      "131      Polokwane, South Africa -23.9000  29.4500               3273   \n",
      "132   Bloemfontein, South Africa -29.1167  26.2167               3356   \n",
      "133             Lahore, Ethiopia   9.0579  38.7591              46325   \n",
      "\n",
      "     Response  \n",
      "0        City  \n",
      "1        City  \n",
      "2     Village  \n",
      "3     Village  \n",
      "4        City  \n",
      "..        ...  \n",
      "129   Village  \n",
      "130   Village  \n",
      "131   Village  \n",
      "132   Village  \n",
      "133   Village  \n",
      "\n",
      "[134 rows x 5 columns]\n"
     ]
    }
   ],
   "source": [
    "# Load the CSV file into a DataFrame\n",
    "df = pd.read_csv('../data/location_data.csv')\n",
    "print(df)"
   ]
  },
  {
   "cell_type": "code",
   "execution_count": 63,
   "metadata": {},
   "outputs": [],
   "source": [
    "# Add a new column with a default value of 0\n",
    "df['ID'] = range(1, len(df) + 1)"
   ]
  },
  {
   "cell_type": "code",
   "execution_count": 64,
   "metadata": {},
   "outputs": [],
   "source": [
    "df.drop(columns=['UNWPP(people/km²)', 'Response'], inplace=True, errors='ignore')"
   ]
  },
  {
   "cell_type": "code",
   "execution_count": 65,
   "metadata": {},
   "outputs": [],
   "source": [
    "# Rearrange the columns to make 'ID' the first column\n",
    "columns = ['ID'] + [col for col in df.columns if col != 'ID']\n",
    "df = df[columns]"
   ]
  },
  {
   "cell_type": "code",
   "execution_count": 66,
   "metadata": {},
   "outputs": [],
   "source": [
    "# Save the updated DataFrame back to a CSV file\n",
    "df.to_csv('index_location.csv', index=False)"
   ]
  }
 ],
 "metadata": {
  "kernelspec": {
   "display_name": "Python 3",
   "language": "python",
   "name": "python3"
  },
  "language_info": {
   "codemirror_mode": {
    "name": "ipython",
    "version": 3
   },
   "file_extension": ".py",
   "mimetype": "text/x-python",
   "name": "python",
   "nbconvert_exporter": "python",
   "pygments_lexer": "ipython3",
   "version": "3.9.6"
  }
 },
 "nbformat": 4,
 "nbformat_minor": 2
}
